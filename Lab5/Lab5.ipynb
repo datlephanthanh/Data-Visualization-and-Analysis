{
 "cells": [
  {
   "cell_type": "markdown",
   "metadata": {},
   "source": [
    "### Câu 1 : Tạo dataframe(df) lưu trữ dataset tại đường dẫn trên( chọn cách đọc load từ internet). Xuất 10 samples bất kỳ. Dataset có bao nhiêu samples, số lượng bao nhiêu feature."
   ]
  },
  {
   "cell_type": "code",
   "execution_count": 1,
   "metadata": {},
   "outputs": [
    {
     "data": {
      "text/html": [
       "<div>\n",
       "<style scoped>\n",
       "    .dataframe tbody tr th:only-of-type {\n",
       "        vertical-align: middle;\n",
       "    }\n",
       "\n",
       "    .dataframe tbody tr th {\n",
       "        vertical-align: top;\n",
       "    }\n",
       "\n",
       "    .dataframe thead th {\n",
       "        text-align: right;\n",
       "    }\n",
       "</style>\n",
       "<table border=\"1\" class=\"dataframe\">\n",
       "  <thead>\n",
       "    <tr style=\"text-align: right;\">\n",
       "      <th></th>\n",
       "      <th>curb-weight</th>\n",
       "      <th>engine-size</th>\n",
       "      <th>length</th>\n",
       "      <th>width</th>\n",
       "      <th>horsepower</th>\n",
       "      <th>city-mpg</th>\n",
       "      <th>highway-mpg</th>\n",
       "      <th>wheel-base</th>\n",
       "      <th>bore</th>\n",
       "      <th>price</th>\n",
       "    </tr>\n",
       "  </thead>\n",
       "  <tbody>\n",
       "    <tr>\n",
       "      <th>126</th>\n",
       "      <td>2579</td>\n",
       "      <td>132</td>\n",
       "      <td>0.872177</td>\n",
       "      <td>0.923611</td>\n",
       "      <td>104.256158</td>\n",
       "      <td>23</td>\n",
       "      <td>31</td>\n",
       "      <td>96.1</td>\n",
       "      <td>3.46</td>\n",
       "      <td>9295.0</td>\n",
       "    </tr>\n",
       "    <tr>\n",
       "      <th>22</th>\n",
       "      <td>2128</td>\n",
       "      <td>98</td>\n",
       "      <td>0.755887</td>\n",
       "      <td>0.886111</td>\n",
       "      <td>102.000000</td>\n",
       "      <td>24</td>\n",
       "      <td>30</td>\n",
       "      <td>93.7</td>\n",
       "      <td>3.03</td>\n",
       "      <td>7957.0</td>\n",
       "    </tr>\n",
       "    <tr>\n",
       "      <th>115</th>\n",
       "      <td>1918</td>\n",
       "      <td>90</td>\n",
       "      <td>0.755887</td>\n",
       "      <td>0.886111</td>\n",
       "      <td>68.000000</td>\n",
       "      <td>37</td>\n",
       "      <td>41</td>\n",
       "      <td>93.7</td>\n",
       "      <td>2.97</td>\n",
       "      <td>5572.0</td>\n",
       "    </tr>\n",
       "    <tr>\n",
       "      <th>99</th>\n",
       "      <td>3296</td>\n",
       "      <td>181</td>\n",
       "      <td>0.887074</td>\n",
       "      <td>0.923611</td>\n",
       "      <td>152.000000</td>\n",
       "      <td>17</td>\n",
       "      <td>22</td>\n",
       "      <td>100.4</td>\n",
       "      <td>3.43</td>\n",
       "      <td>14399.0</td>\n",
       "    </tr>\n",
       "    <tr>\n",
       "      <th>109</th>\n",
       "      <td>3252</td>\n",
       "      <td>152</td>\n",
       "      <td>0.897165</td>\n",
       "      <td>0.950000</td>\n",
       "      <td>95.000000</td>\n",
       "      <td>28</td>\n",
       "      <td>33</td>\n",
       "      <td>107.9</td>\n",
       "      <td>3.70</td>\n",
       "      <td>16900.0</td>\n",
       "    </tr>\n",
       "    <tr>\n",
       "      <th>44</th>\n",
       "      <td>4066</td>\n",
       "      <td>258</td>\n",
       "      <td>0.959154</td>\n",
       "      <td>0.966667</td>\n",
       "      <td>176.000000</td>\n",
       "      <td>15</td>\n",
       "      <td>19</td>\n",
       "      <td>113.0</td>\n",
       "      <td>3.63</td>\n",
       "      <td>32250.0</td>\n",
       "    </tr>\n",
       "    <tr>\n",
       "      <th>45</th>\n",
       "      <td>4066</td>\n",
       "      <td>258</td>\n",
       "      <td>0.959154</td>\n",
       "      <td>0.966667</td>\n",
       "      <td>176.000000</td>\n",
       "      <td>15</td>\n",
       "      <td>19</td>\n",
       "      <td>113.0</td>\n",
       "      <td>3.63</td>\n",
       "      <td>35550.0</td>\n",
       "    </tr>\n",
       "    <tr>\n",
       "      <th>147</th>\n",
       "      <td>2040</td>\n",
       "      <td>92</td>\n",
       "      <td>0.762614</td>\n",
       "      <td>0.883333</td>\n",
       "      <td>62.000000</td>\n",
       "      <td>31</td>\n",
       "      <td>38</td>\n",
       "      <td>95.7</td>\n",
       "      <td>3.05</td>\n",
       "      <td>6338.0</td>\n",
       "    </tr>\n",
       "    <tr>\n",
       "      <th>6</th>\n",
       "      <td>2844</td>\n",
       "      <td>136</td>\n",
       "      <td>0.925997</td>\n",
       "      <td>0.991667</td>\n",
       "      <td>110.000000</td>\n",
       "      <td>19</td>\n",
       "      <td>25</td>\n",
       "      <td>105.8</td>\n",
       "      <td>3.19</td>\n",
       "      <td>17710.0</td>\n",
       "    </tr>\n",
       "    <tr>\n",
       "      <th>88</th>\n",
       "      <td>1918</td>\n",
       "      <td>97</td>\n",
       "      <td>0.794330</td>\n",
       "      <td>0.886111</td>\n",
       "      <td>69.000000</td>\n",
       "      <td>31</td>\n",
       "      <td>37</td>\n",
       "      <td>94.5</td>\n",
       "      <td>3.15</td>\n",
       "      <td>6649.0</td>\n",
       "    </tr>\n",
       "  </tbody>\n",
       "</table>\n",
       "</div>"
      ],
      "text/plain": [
       "     curb-weight  engine-size    length     width  horsepower  city-mpg  \\\n",
       "126         2579          132  0.872177  0.923611  104.256158        23   \n",
       "22          2128           98  0.755887  0.886111  102.000000        24   \n",
       "115         1918           90  0.755887  0.886111   68.000000        37   \n",
       "99          3296          181  0.887074  0.923611  152.000000        17   \n",
       "109         3252          152  0.897165  0.950000   95.000000        28   \n",
       "44          4066          258  0.959154  0.966667  176.000000        15   \n",
       "45          4066          258  0.959154  0.966667  176.000000        15   \n",
       "147         2040           92  0.762614  0.883333   62.000000        31   \n",
       "6           2844          136  0.925997  0.991667  110.000000        19   \n",
       "88          1918           97  0.794330  0.886111   69.000000        31   \n",
       "\n",
       "     highway-mpg  wheel-base  bore    price  \n",
       "126           31        96.1  3.46   9295.0  \n",
       "22            30        93.7  3.03   7957.0  \n",
       "115           41        93.7  2.97   5572.0  \n",
       "99            22       100.4  3.43  14399.0  \n",
       "109           33       107.9  3.70  16900.0  \n",
       "44            19       113.0  3.63  32250.0  \n",
       "45            19       113.0  3.63  35550.0  \n",
       "147           38        95.7  3.05   6338.0  \n",
       "6             25       105.8  3.19  17710.0  \n",
       "88            37        94.5  3.15   6649.0  "
      ]
     },
     "execution_count": 1,
     "metadata": {},
     "output_type": "execute_result"
    }
   ],
   "source": [
    "import pandas as pd\n",
    "import seaborn as sns\n",
    "import matplotlib.pyplot as plt\n",
    "import numpy as np\n",
    "from sklearn.preprocessing import PolynomialFeatures, StandardScaler\n",
    "from sklearn.linear_model import LinearRegression\n",
    "from sklearn.metrics import mean_squared_error\n",
    "from sklearn.pipeline import Pipeline\n",
    "\n",
    "\n",
    "url = 'https://raw.githubusercontent.com/datasethub/ds105/master/Lab_Model_Development.csv'\n",
    "df = pd.read_csv(url)\n",
    "df.sample(10)"
   ]
  },
  {
   "cell_type": "code",
   "execution_count": 2,
   "metadata": {},
   "outputs": [
    {
     "data": {
      "text/plain": [
       "(201, 10)"
      ]
     },
     "execution_count": 2,
     "metadata": {},
     "output_type": "execute_result"
    }
   ],
   "source": [
    "df.shape"
   ]
  },
  {
   "cell_type": "markdown",
   "metadata": {},
   "source": [
    "Dataset có 201 samples và 9 featrue"
   ]
  },
  {
   "cell_type": "markdown",
   "metadata": {},
   "source": [
    "### Câu 2 : Kiểm tra kiểu dữ liệu của các feature ('curb-weight', 'engine-size', 'length', 'width', 'horsepower', 'city-mpg', 'highway-mpg', 'wheel-base', 'bore') trong dataset có bị khuyết giá trị nào không?"
   ]
  },
  {
   "cell_type": "code",
   "execution_count": 3,
   "metadata": {},
   "outputs": [],
   "source": [
    "df_2 = df.copy()"
   ]
  },
  {
   "cell_type": "code",
   "execution_count": 4,
   "metadata": {},
   "outputs": [],
   "source": [
    "df_2 = df_2[['curb-weight', 'engine-size', 'length', 'width', 'horsepower', 'city-mpg', 'highway-mpg', 'wheel-base', 'bore']]"
   ]
  },
  {
   "cell_type": "code",
   "execution_count": 5,
   "metadata": {},
   "outputs": [
    {
     "data": {
      "text/plain": [
       "curb-weight      int64\n",
       "engine-size      int64\n",
       "length         float64\n",
       "width          float64\n",
       "horsepower     float64\n",
       "city-mpg         int64\n",
       "highway-mpg      int64\n",
       "wheel-base     float64\n",
       "bore           float64\n",
       "dtype: object"
      ]
     },
     "execution_count": 5,
     "metadata": {},
     "output_type": "execute_result"
    }
   ],
   "source": [
    "df_2.dtypes"
   ]
  },
  {
   "cell_type": "code",
   "execution_count": 6,
   "metadata": {},
   "outputs": [
    {
     "data": {
      "text/plain": [
       "curb-weight    0\n",
       "engine-size    0\n",
       "length         0\n",
       "width          0\n",
       "horsepower     0\n",
       "city-mpg       0\n",
       "highway-mpg    0\n",
       "wheel-base     0\n",
       "bore           0\n",
       "dtype: int64"
      ]
     },
     "execution_count": 6,
     "metadata": {},
     "output_type": "execute_result"
    }
   ],
   "source": [
    "df_2.isnull().sum()"
   ]
  },
  {
   "cell_type": "code",
   "execution_count": 7,
   "metadata": {},
   "outputs": [
    {
     "name": "stdout",
     "output_type": "stream",
     "text": [
      "[2548 2823 2337 2824 2507 2844 2954 3086 2395 2710 2765 3055 3230 3380\n",
      " 3505 1488 1874 1909 1876 2128 1967 1989 2191 2535 2811 1713 1819 1837\n",
      " 1940 1956 2010 2024 2236 2289 2304 2372 2465 2293 2734 4066 3950 1890\n",
      " 1900 1905 1945 1950 2380 2385 2500 2410 2443 2425 2670 2700 3515 3750\n",
      " 3495 3770 3740 3685 3900 3715 2910 1918 1944 2004 2145 2370 2328 2833\n",
      " 2921 2926 2365 2405 2403 1889 2017 1938 1951 2028 1971 2037 2008 2324\n",
      " 2302 3095 3296 3060 3071 3139 3020 3197 3430 3075 3252 3285 3485 3130\n",
      " 2818 2778 2756 2800 2579 2460 2658 2695 2707 2758 2808 2847 2050 2120\n",
      " 2240 2190 2340 2510 2290 2455 2420 2650 1985 2040 2015 2280 3110 2081\n",
      " 2109 2275 2094 2122 2140 2169 2204 2265 2300 2540 2536 2551 2679 2714\n",
      " 2975 2326 2480 2414 2458 2976 3016 3131 3151 2261 2209 2264 2212 2319\n",
      " 2254 2221 2661 2563 2912 3034 2935 3042 3045 3157 2952 3049 3012 3217\n",
      " 3062]\n",
      "----------------------\n",
      "[130 152 109 136 131 108 164 209  61  90  98 122 156  92  79 110 111 119\n",
      " 258 326  91  70  80 140 134 183 234 308 304  97 103 120 181 151 194 132\n",
      " 121 146 171 161 141 173 145]\n",
      "----------------------\n",
      "[0.81114849 0.8226814  0.84863047 0.85199423 0.92599712 0.84959154\n",
      " 0.9082172  0.93128304 0.94666026 0.6780394  0.74915906 0.76309467\n",
      " 0.75588659 0.8390197  0.83229217 0.69485824 0.7208073  0.78519942\n",
      " 0.75492552 0.80490149 0.84286401 0.8125901  0.82027871 0.82940894\n",
      " 0.95915425 0.92119173 0.76453628 0.80153772 0.81210956 0.85439692\n",
      " 0.84094185 0.91734743 0.90100913 0.9735704  0.86641038 1.\n",
      " 0.9572321  0.85728015 0.83133109 0.82844786 0.79432965 0.81787602\n",
      " 0.79577126 0.78039404 0.83325324 0.87313791 0.88707352 0.85776069\n",
      " 0.89716482 0.95579049 0.80394041 0.81162902 0.87217684 0.89668429\n",
      " 0.75396444 0.75876982 0.82652571 0.83373378 0.83421432 0.76261413\n",
      " 0.81547333 0.79913503 0.81066795 0.84670831 0.84382508 0.8817876\n",
      " 0.90245074 0.82508409 0.76549736 0.7962518  0.86592984 0.87986545\n",
      " 0.90725613]\n",
      "----------------------\n",
      "[0.89027778 0.90972222 0.91944444 0.92222222 0.92083333 0.99166667\n",
      " 0.9        0.92916667 0.94305556 0.98472222 0.8375     0.88333333\n",
      " 0.88611111 0.89722222 0.8875     0.88888889 0.90555556 0.86805556\n",
      " 0.91666667 0.85833333 0.96666667 0.98055556 0.89166667 0.9125\n",
      " 0.92361111 0.91805556 0.97638889 0.99583333 0.97916667 1.\n",
      " 0.94444444 0.89444444 0.90833333 0.95       0.94861111 0.90277778\n",
      " 0.925      0.88055556 0.91111111 0.94027778 0.93333333 0.95694444\n",
      " 0.95555556]\n",
      "----------------------\n",
      "[111.         154.         102.         115.         110.\n",
      " 140.         101.         121.         182.          48.\n",
      "  70.          68.          88.         145.          58.\n",
      "  76.          60.          86.         100.          78.\n",
      "  90.         176.         262.         135.          84.\n",
      "  64.         120.          72.         123.         155.\n",
      " 184.         175.         116.          69.          55.\n",
      "  97.         152.         160.         200.          95.\n",
      " 142.         143.         207.         104.25615764  73.\n",
      "  82.          94.          62.          56.         112.\n",
      "  92.         161.         156.          52.          85.\n",
      " 114.         162.         134.         106.        ]\n",
      "----------------------\n",
      "[21 19 24 18 17 23 20 16 15 47 38 37 31 49 30 27 25 13 26 36 22 14 45 28\n",
      " 32 35 34 29 33]\n",
      "----------------------\n",
      "[27 26 30 22 25 20 29 28 53 43 41 38 24 54 42 34 33 31 19 17 23 32 39 18\n",
      " 16 37 50 36 47 46]\n",
      "----------------------\n",
      "[ 88.6  94.5  99.8  99.4 105.8 101.2 103.5 110.   88.4  93.7 103.3  95.9\n",
      "  86.6  96.5  94.3  96.  113.  102.   93.1  95.3  98.8 104.9 106.7 115.6\n",
      "  96.6 120.9 112.  102.7  93.   96.3  95.1  97.2 100.4  91.3  99.2 107.9\n",
      " 114.2 108.   89.5  96.1  99.1  93.3  97.   96.9  95.7  98.4 102.4 102.9\n",
      " 104.5  97.3 104.3 109.1]\n",
      "----------------------\n",
      "[3.47       2.68       3.19       3.13       3.5        3.31\n",
      " 3.62       2.91       3.03       2.97       3.34       3.6\n",
      " 2.92       3.15       3.43       3.63       3.54       3.08\n",
      " 3.32975124 3.39       3.76       3.58       3.46       3.8\n",
      " 3.78       3.17       3.35       3.59       2.99       3.33\n",
      " 3.7        3.61       3.94       3.74       2.54       3.05\n",
      " 3.27       3.24       3.01      ]\n",
      "----------------------\n",
      "[13495. 16500. 13950. 17450. 15250. 17710. 18920. 23875. 16430. 16925.\n",
      " 20970. 21105. 24565. 30760. 41315. 36880.  5151.  6295.  6575.  5572.\n",
      "  6377.  7957.  6229.  6692.  7609.  8558.  8921. 12964.  6479.  6855.\n",
      "  5399.  6529.  7129.  7295.  7895.  9095.  8845. 10295. 12945. 10345.\n",
      "  6785. 11048. 32250. 35550. 36000.  5195.  6095.  6795.  6695.  7395.\n",
      " 10945. 11845. 13645. 15645.  8495. 10595. 10245. 10795. 11245. 18280.\n",
      " 18344. 25552. 28248. 28176. 31600. 34184. 35056. 40960. 45400. 16503.\n",
      "  5389.  6189.  6669.  7689.  9959.  8499. 12629. 14869. 14489.  6989.\n",
      "  8189.  9279.  5499.  7099.  6649.  6849.  7349.  7299.  7799.  7499.\n",
      "  7999.  8249.  8949.  9549. 13499. 14399. 17199. 19699. 18399. 11900.\n",
      " 13200. 12440. 13860. 15580. 16900. 16695. 17075. 16630. 17950. 18150.\n",
      " 12764. 22018. 32528. 34028. 37028.  9295.  9895. 11850. 12170. 15040.\n",
      " 15510. 18620.  5118.  7053.  7603.  7126.  7775.  9960.  9233. 11259.\n",
      "  7463. 10198.  8013. 11694.  5348.  6338.  6488.  6918.  7898.  8778.\n",
      "  6938.  7198.  7788.  7738.  8358.  9258.  8058.  8238.  9298.  9538.\n",
      "  8449.  9639.  9989. 11199. 11549. 17669.  8948. 10698.  9988. 10898.\n",
      " 11248. 16558. 15998. 15690. 15750.  7975.  7995.  8195.  9495.  9995.\n",
      " 11595.  9980. 13295. 13845. 12290. 12940. 13415. 15985. 16515. 18420.\n",
      " 18950. 16845. 19045. 21485. 22470. 22625.]\n",
      "----------------------\n"
     ]
    }
   ],
   "source": [
    "for col in range(0, len(df.columns)):\n",
    "    print(df[df.columns[col]].unique())\n",
    "    print(\"----------------------\")"
   ]
  },
  {
   "cell_type": "markdown",
   "metadata": {},
   "source": [
    "Dataset không bị khuyết giá trị nào"
   ]
  },
  {
   "cell_type": "markdown",
   "metadata": {},
   "source": [
    "### Câu 3 : Phát triển mô hình Polynomial Regression bậc 3 để dự đoán giá xe từ biến 'highway-mpg' (tên mô hình poly)"
   ]
  },
  {
   "cell_type": "code",
   "execution_count": 8,
   "metadata": {},
   "outputs": [],
   "source": [
    "df_3 = df.copy()"
   ]
  },
  {
   "cell_type": "code",
   "execution_count": 9,
   "metadata": {},
   "outputs": [],
   "source": [
    "SC_3 = StandardScaler()\n",
    "poly_3 = PolynomialFeatures(degree = 3, include_bias = False)\n",
    "model_3 = LinearRegression()\n",
    "\n",
    "X = df_3[['highway-mpg']]\n",
    "y = df_3['price']\n",
    "\n",
    "X_normalize_3 = SC_3.fit_transform(X)\n",
    "X_poly_3 = poly_3.fit_transform(X_normalize_3)\n",
    "model_3 = model_3.fit(X_poly_3, y)"
   ]
  },
  {
   "cell_type": "code",
   "execution_count": 10,
   "metadata": {},
   "outputs": [
    {
     "data": {
      "text/plain": [
       "(10633.909632655192, array([-5414.86144666,  2839.95364473,  -489.06305899]))"
      ]
     },
     "execution_count": 10,
     "metadata": {},
     "output_type": "execute_result"
    }
   ],
   "source": [
    "model_3.intercept_, model_3.coef_"
   ]
  },
  {
   "cell_type": "markdown",
   "metadata": {},
   "source": [
    "### Câu 4 : Tính MSE và R^2 để đánh giá tập mẫu của mô hình trên bằng phương pháp thủ công và gọi hàm. Phát họa distribution plot để đánh giá mô hình."
   ]
  },
  {
   "cell_type": "code",
   "execution_count": 11,
   "metadata": {},
   "outputs": [],
   "source": [
    "SC_4 = StandardScaler()"
   ]
  },
  {
   "cell_type": "markdown",
   "metadata": {},
   "source": [
    "Sử dụng feature 'highway-mpg' để predict"
   ]
  },
  {
   "cell_type": "code",
   "execution_count": 12,
   "metadata": {},
   "outputs": [],
   "source": [
    "X_sample_4 = np.array(df[['highway-mpg']])"
   ]
  },
  {
   "cell_type": "markdown",
   "metadata": {},
   "source": [
    "Normalize X_sample bằng phương thức StandardScaler"
   ]
  },
  {
   "cell_type": "code",
   "execution_count": 13,
   "metadata": {},
   "outputs": [],
   "source": [
    "X_normalize_4 = SC_4.fit_transform(X_sample_4.reshape(-1, 1))"
   ]
  },
  {
   "cell_type": "markdown",
   "metadata": {},
   "source": [
    "Tiếp tục bước transform sử dụng PolynomialFeatures"
   ]
  },
  {
   "cell_type": "code",
   "execution_count": 14,
   "metadata": {},
   "outputs": [],
   "source": [
    "X_poly_4 = PolynomialFeatures(degree = 3, include_bias = False).fit_transform(X_normalize_4)"
   ]
  },
  {
   "cell_type": "markdown",
   "metadata": {},
   "source": [
    "Khởi tạo y_pred_4"
   ]
  },
  {
   "cell_type": "code",
   "execution_count": 15,
   "metadata": {},
   "outputs": [],
   "source": [
    "y_pred_4 = model_3.predict(X_poly_4)"
   ]
  },
  {
   "cell_type": "markdown",
   "metadata": {},
   "source": [
    "Khởi tạo y"
   ]
  },
  {
   "cell_type": "code",
   "execution_count": 16,
   "metadata": {},
   "outputs": [],
   "source": [
    "y = df['price']"
   ]
  },
  {
   "cell_type": "markdown",
   "metadata": {},
   "source": [
    "Mean squared error"
   ]
  },
  {
   "cell_type": "code",
   "execution_count": 17,
   "metadata": {},
   "outputs": [
    {
     "data": {
      "text/plain": [
       "20474146.426361218"
      ]
     },
     "execution_count": 17,
     "metadata": {},
     "output_type": "execute_result"
    }
   ],
   "source": [
    "MSE_4 = np.sum((y - y_pred_4)**2 / df.shape[0])\n",
    "MSE_4"
   ]
  },
  {
   "cell_type": "code",
   "execution_count": 18,
   "metadata": {},
   "outputs": [
    {
     "data": {
      "text/plain": [
       "20474146.426361218"
      ]
     },
     "execution_count": 18,
     "metadata": {},
     "output_type": "execute_result"
    }
   ],
   "source": [
    "MSE_4_func = mean_squared_error(y, y_pred_4)\n",
    "MSE_4_func"
   ]
  },
  {
   "cell_type": "code",
   "execution_count": 19,
   "metadata": {},
   "outputs": [
    {
     "data": {
      "text/plain": [
       "62841655.16734734"
      ]
     },
     "execution_count": 19,
     "metadata": {},
     "output_type": "execute_result"
    }
   ],
   "source": [
    "MSE_average_4 = np.sum((y - y.mean())**2 / df.shape[0])\n",
    "MSE_average_4"
   ]
  },
  {
   "cell_type": "code",
   "execution_count": 20,
   "metadata": {},
   "outputs": [],
   "source": [
    "arr_mean = []\n",
    "for i in range(0, len(y)):\n",
    "    arr_mean.append(y.mean())\n",
    "df_mean = pd.DataFrame(arr_mean)"
   ]
  },
  {
   "cell_type": "code",
   "execution_count": 21,
   "metadata": {},
   "outputs": [
    {
     "data": {
      "text/plain": [
       "62841655.16734734"
      ]
     },
     "execution_count": 21,
     "metadata": {},
     "output_type": "execute_result"
    }
   ],
   "source": [
    "MSE_average_4_func = mean_squared_error(y, df_mean)\n",
    "MSE_average_4_func"
   ]
  },
  {
   "cell_type": "markdown",
   "metadata": {},
   "source": [
    "R2"
   ]
  },
  {
   "cell_type": "code",
   "execution_count": 22,
   "metadata": {},
   "outputs": [
    {
     "data": {
      "text/plain": [
       "0.6741946663906518"
      ]
     },
     "execution_count": 22,
     "metadata": {},
     "output_type": "execute_result"
    }
   ],
   "source": [
    "R2_4 = 1 - (MSE_4 / MSE_average_4)\n",
    "R2_4"
   ]
  },
  {
   "cell_type": "code",
   "execution_count": 23,
   "metadata": {},
   "outputs": [
    {
     "data": {
      "text/plain": [
       "0.674194666390652"
      ]
     },
     "execution_count": 23,
     "metadata": {},
     "output_type": "execute_result"
    }
   ],
   "source": [
    "R2_4_func = model_3.score(X_poly_4, y)\n",
    "R2_4_func"
   ]
  },
  {
   "cell_type": "markdown",
   "metadata": {},
   "source": [
    "Phát họa distribution plot"
   ]
  },
  {
   "cell_type": "code",
   "execution_count": 24,
   "metadata": {},
   "outputs": [
    {
     "data": {
      "image/png": "[encoded data removed]",
      "text/plain": [
       "<Figure size 432x288 with 1 Axes>"
      ]
     },
     "metadata": {
      "needs_background": "light"
     },
     "output_type": "display_data"
    }
   ],
   "source": [
    "ax1 = sns.distplot(y_pred_4, hist=False, color='b', label = 'Fitted Values')\n",
    "sns.distplot(y, hist=False, color='r', label = 'Actual Value', ax=ax1)\n",
    "plt.show()"
   ]
  },
  {
   "cell_type": "markdown",
   "metadata": {},
   "source": [
    "### Câu 5 : Phát triển mô hình hồi quy tuyến tính đa biến để dự đoán giá xe từ biến 'horsepower', 'curb-weight', 'engine-size', 'highway-mpg'"
   ]
  },
  {
   "cell_type": "code",
   "execution_count": 25,
   "metadata": {},
   "outputs": [],
   "source": [
    "df_5 = df.copy()"
   ]
  },
  {
   "cell_type": "markdown",
   "metadata": {},
   "source": [
    "Xây dựng mô hình"
   ]
  },
  {
   "cell_type": "code",
   "execution_count": 26,
   "metadata": {},
   "outputs": [],
   "source": [
    "X_5 = df[['horsepower', 'curb-weight', 'engine-size', 'highway-mpg']]\n",
    "y_5 = df['price']\n",
    "    "
   ]
  },
  {
   "cell_type": "code",
   "execution_count": 27,
   "metadata": {},
   "outputs": [],
   "source": [
    "from sklearn.preprocessing import PolynomialFeatures, StandardScaler\n",
    "from sklearn.linear_model import LinearRegression\n",
    "\n",
    "SC_5 = StandardScaler()\n",
    "poly_5 = PolynomialFeatures(degree = 3, include_bias = False)\n",
    "model_5 = LinearRegression()\n",
    "    \n",
    "X_normalize_5 = SC_5.fit_transform(X_5)\n",
    "X_poly_5 = poly_5.fit_transform(X_normalize_5)\n",
    "model_5 = model_5.fit(X_poly_5, y)"
   ]
  },
  {
   "cell_type": "code",
   "execution_count": 28,
   "metadata": {},
   "outputs": [
    {
     "data": {
      "text/plain": [
       "(11017.942627946732,\n",
       " array([-1013.99425222,  4273.46228485,   941.28452416, -1434.04556364,\n",
       "          567.7377404 ,  4806.00412443, -9092.29030358,  1228.30822399,\n",
       "         1653.88129233, -8830.36316909,  -521.42990708, 12690.67535588,\n",
       "        -1958.43431511,   355.04691316,  2014.92478845, -4698.06374757,\n",
       "         2819.7562693 ,  3848.87880404,  -656.84952557,  6272.43541319,\n",
       "        -5994.13257902, -4249.88376111,   873.6644639 ,  1023.22920693,\n",
       "         -744.32042846,  4544.60993274,   372.29176059, -6940.17848163,\n",
       "         2270.10224362,  -832.69618728,  2519.16799238,  2104.72575599,\n",
       "         2796.82223486,   568.87826921]))"
      ]
     },
     "execution_count": 28,
     "metadata": {},
     "output_type": "execute_result"
    }
   ],
   "source": [
    "model_5.intercept_, model_5.coef_"
   ]
  },
  {
   "cell_type": "markdown",
   "metadata": {},
   "source": [
    "Normalize và Transform"
   ]
  },
  {
   "cell_type": "code",
   "execution_count": 29,
   "metadata": {},
   "outputs": [],
   "source": [
    "X_sample_5 = df[['horsepower', 'curb-weight', 'engine-size', 'highway-mpg']]"
   ]
  },
  {
   "cell_type": "code",
   "execution_count": 30,
   "metadata": {},
   "outputs": [],
   "source": [
    "\n",
    "X_normalize_sample_5 = SC_5.fit_transform(X_sample_5)\n",
    "X_poly_sample_5 = poly_5.fit_transform(X_normalize_sample_5)\n",
    "    \n",
    "y_pred_5 = model_5.predict(X_poly_sample_5)"
   ]
  },
  {
   "cell_type": "code",
   "execution_count": 31,
   "metadata": {},
   "outputs": [
    {
     "data": {
      "text/plain": [
       "array([11544.20557153, 11544.20557153, 14114.40410279,  9809.88877397,\n",
       "       15947.36094342, 12695.09759977, 15371.14796858, 16485.90740748,\n",
       "       20774.11530048, 10615.15373339, 10615.15373339, 18162.54235774,\n",
       "       18001.823445  , 20020.50831758, 24965.95315383, 26569.42112073,\n",
       "       29610.7247565 ,  5758.77037293,  5819.98692554,  6169.51076992,\n",
       "        5617.93020768,  5970.62103412,  8830.59598737,  6947.34274077,\n",
       "        7195.4383421 ,  7195.4383421 ,  9836.39262307, 10972.61628903,\n",
       "       14708.19101592,  6191.16202556,  5795.47773936,  7075.44147026,\n",
       "        7070.41148032,  7250.64288791,  7873.60390064,  8038.37628199,\n",
       "        8402.44421861,  8814.79816327,  8937.0396306 ,  9517.68359781,\n",
       "       11192.10394758,  9157.89066051,  9164.99874745, 12433.54042412,\n",
       "       35496.1727674 , 35496.1727674 , 37188.68536501,  6112.34862155,\n",
       "        6036.03589397,  6086.01634975,  6496.06428557,  6548.53486814,\n",
       "       12961.81819656, 12961.81819656, 13051.30728607, 13607.73821477,\n",
       "       10158.97061996, 10211.98356595, 10158.97061996, 10211.98356595,\n",
       "       11445.05340622, 10248.69904487, 12842.46560457, 14200.6689943 ,\n",
       "       25824.13574316, 28230.72537287, 25670.84619526, 28479.47021746,\n",
       "       35905.22005832, 35963.96565508, 37613.03056873, 47476.49550658,\n",
       "       16735.65392818,  5654.98277353,  6302.7090552 ,  6917.67030946,\n",
       "        9101.38503748, 10554.75907547,  9790.51832381, 15009.35551848,\n",
       "       16303.19527138, 16380.70323927,  9896.19942858, 10036.86242243,\n",
       "       11024.3857695 , 11024.3857695 ,  5607.8893349 ,  7172.75983842,\n",
       "        5793.90281091,  5929.92537728,  6580.12915984,  6021.5830447 ,\n",
       "        6612.73569679,  6167.39457018,  6686.80611802,  6451.68344084,\n",
       "        8808.17338905,  8679.812365  , 21826.10257796, 24717.89150506,\n",
       "       19979.12694734, 19567.54803458, 25170.46019133, 20309.84783288,\n",
       "       14840.00916609, 17664.24243889, 15858.9880306 , 15992.62580401,\n",
       "       14468.22695115, 18008.74287493, 15102.20566092, 15969.03483326,\n",
       "       15162.75364599, 18008.74287493, 20394.18177866,  6059.57338785,\n",
       "        8830.59598737,  6947.34274077,  7195.4383421 ,  7726.3108401 ,\n",
       "       10972.61628903, 14802.99013193, 13474.29000032, 34271.97863466,\n",
       "       34271.97863466, 33699.93211904, 11358.95253693, 10701.81600153,\n",
       "       12807.8273275 , 13293.99598057, 13452.06835395, 14124.29948373,\n",
       "       16146.85165953, 16606.62730961,  6936.86218775,  8270.8506694 ,\n",
       "        8479.69954332,  7285.13388105,  8113.36735114,  9790.70506174,\n",
       "        8433.12198352, 12635.19844693,  8939.93669742, 11147.70705374,\n",
       "        9844.59501697, 13078.08696351,  6050.8356815 ,  6732.47131108,\n",
       "        6495.54518286,  9205.76946492,  8273.27305277,  9690.63715819,\n",
       "        7005.54702408,  7247.69011421,  7815.5625645 ,  9556.84411786,\n",
       "        7145.1102545 ,  7661.61824611,  7801.06382473,  8031.05223788,\n",
       "        8316.38247367, 11184.30148536, 11791.62961996, 12712.74626406,\n",
       "       12707.4164503 , 12729.60262225, 13149.12488926, 13330.08564283,\n",
       "       15399.1935323 ,  9129.5634002 ,  9434.28820204,  9917.48030378,\n",
       "        9917.48030378, 10167.77350774, 17409.64477436, 17957.63945036,\n",
       "       19867.61207084, 19946.67762925,  7325.26059891,  8099.19571788,\n",
       "        7362.35453839,  8121.61196701,  8617.34058787,  8916.52902427,\n",
       "        9396.31712659,  8794.50326663,  8502.58170059, 14024.35975139,\n",
       "       11956.07374519, 11718.39878518, 15273.48673168, 16612.89780133,\n",
       "       15516.43994547, 16704.49104612, 18425.3587377 , 20577.24579563,\n",
       "       15699.17073263, 18121.18596424, 21457.49201924, 18147.09187139,\n",
       "       18023.4456165 ])"
      ]
     },
     "execution_count": 31,
     "metadata": {},
     "output_type": "execute_result"
    }
   ],
   "source": [
    "y_pred_5"
   ]
  },
  {
   "cell_type": "code",
   "execution_count": 32,
   "metadata": {},
   "outputs": [
    {
     "data": {
      "image/png": "[encoded data removed]",
      "text/plain": [
       "<Figure size 432x288 with 1 Axes>"
      ]
     },
     "metadata": {
      "needs_background": "light"
     },
     "output_type": "display_data"
    }
   ],
   "source": [
    "import seaborn as sns\n",
    "import matplotlib.pyplot as plt\n",
    "ax2 = sns.distplot(y_pred_5, hist=False, color='b', label = 'Fitted Values')\n",
    "sns.distplot(y, hist=False, color='r', label = 'Actual Value', ax=ax2)\n",
    "plt.show()"
   ]
  },
  {
   "cell_type": "markdown",
   "metadata": {},
   "source": [
    "### Câu 6 : Tính MSE và R^2 để đánh giá tập mẫu của mô hình trên bằng phương pháp thủ công và gọi hàm. Phát họa distribution plot để đánh giá mô hình."
   ]
  },
  {
   "cell_type": "code",
   "execution_count": 33,
   "metadata": {},
   "outputs": [],
   "source": [
    "df_6 = df.copy()"
   ]
  },
  {
   "cell_type": "markdown",
   "metadata": {},
   "source": [
    "Định nghĩa hàm tính MSE"
   ]
  },
  {
   "cell_type": "code",
   "execution_count": 34,
   "metadata": {},
   "outputs": [],
   "source": [
    "def mse_6(y, yhat, df):\n",
    "    mse = np.sum((yhat - y)**2 / df.shape[0])\n",
    "    return mse"
   ]
  },
  {
   "cell_type": "markdown",
   "metadata": {},
   "source": [
    "Tính MSE"
   ]
  },
  {
   "cell_type": "code",
   "execution_count": 35,
   "metadata": {},
   "outputs": [
    {
     "data": {
      "text/plain": [
       "6578339.0826046895"
      ]
     },
     "execution_count": 35,
     "metadata": {},
     "output_type": "execute_result"
    }
   ],
   "source": [
    "MSE_6 = mse_6(y, y_pred_5, df_6)\n",
    "MSE_6"
   ]
  },
  {
   "cell_type": "code",
   "execution_count": 36,
   "metadata": {},
   "outputs": [
    {
     "data": {
      "text/plain": [
       "6578339.0826046895"
      ]
     },
     "execution_count": 36,
     "metadata": {},
     "output_type": "execute_result"
    }
   ],
   "source": [
    "MSE_6_func = mean_squared_error(y, y_pred_5)\n",
    "MSE_6_func"
   ]
  },
  {
   "cell_type": "code",
   "execution_count": 37,
   "metadata": {},
   "outputs": [
    {
     "data": {
      "text/plain": [
       "62841655.16734734"
      ]
     },
     "execution_count": 37,
     "metadata": {},
     "output_type": "execute_result"
    }
   ],
   "source": [
    "MSE_average_6 = mse_6(y, y.mean(), df_6)\n",
    "MSE_average_6"
   ]
  },
  {
   "cell_type": "code",
   "execution_count": 38,
   "metadata": {},
   "outputs": [
    {
     "data": {
      "text/plain": [
       "62841655.16734734"
      ]
     },
     "execution_count": 38,
     "metadata": {},
     "output_type": "execute_result"
    }
   ],
   "source": [
    "MSE_average_6_func = mean_squared_error(y, df_mean)\n",
    "MSE_average_6_func"
   ]
  },
  {
   "cell_type": "markdown",
   "metadata": {},
   "source": [
    "Tính R2"
   ]
  },
  {
   "cell_type": "code",
   "execution_count": 39,
   "metadata": {},
   "outputs": [
    {
     "data": {
      "text/plain": [
       "0.8953188125760442"
      ]
     },
     "execution_count": 39,
     "metadata": {},
     "output_type": "execute_result"
    }
   ],
   "source": [
    "R2_6 = 1 - (MSE_6 / MSE_average_6)\n",
    "R2_6"
   ]
  },
  {
   "cell_type": "code",
   "execution_count": 40,
   "metadata": {},
   "outputs": [
    {
     "data": {
      "text/plain": [
       "0.8953188125760442"
      ]
     },
     "execution_count": 40,
     "metadata": {},
     "output_type": "execute_result"
    }
   ],
   "source": [
    "R2_6_func = model_5.score(X_poly_sample_5, y)\n",
    "R2_6_func"
   ]
  },
  {
   "cell_type": "markdown",
   "metadata": {},
   "source": [
    "### Câu 7 : Phát triển mô hình Polynomial Regression bậc 2 để dự đoán giá xe từ biến 'horsepower', 'curb-weight', 'engine-size', 'highway-mpg'."
   ]
  },
  {
   "cell_type": "code",
   "execution_count": 41,
   "metadata": {},
   "outputs": [],
   "source": [
    "df_7 = df.copy()"
   ]
  },
  {
   "cell_type": "markdown",
   "metadata": {},
   "source": [
    "Chọn tập dữ liệu train"
   ]
  },
  {
   "cell_type": "code",
   "execution_count": 42,
   "metadata": {},
   "outputs": [],
   "source": [
    "X_7 = df[['horsepower', 'curb-weight', 'engine-size', 'highway-mpg']]\n",
    "y = df['price']"
   ]
  },
  {
   "cell_type": "markdown",
   "metadata": {},
   "source": [
    "Khởi tạo mô hình"
   ]
  },
  {
   "cell_type": "code",
   "execution_count": 43,
   "metadata": {},
   "outputs": [],
   "source": [
    "SC_7 = StandardScaler()\n",
    "poly_7 = PolynomialFeatures(degree = 2, include_bias = False)\n",
    "model_7 = LinearRegression()\n",
    "    \n",
    "X_normalize_7 = SC_7.fit_transform(X_7)\n",
    "X_poly_7 = poly_7.fit_transform(X_normalize_7)\n",
    "model_7 = model_7.fit(X_poly_7, y)"
   ]
  },
  {
   "cell_type": "markdown",
   "metadata": {},
   "source": [
    "Dự đoán tập mẫu"
   ]
  },
  {
   "cell_type": "code",
   "execution_count": 44,
   "metadata": {},
   "outputs": [
    {
     "data": {
      "text/plain": [
       "array([13102.74784201, 13102.74784201, 18225.54572197, 10390.29636555,\n",
       "       16136.29619164, 13880.09787302, 15041.58694037, 15457.93465485,\n",
       "       17974.49032347, 10510.56542385, 10510.56542385, 15845.70697835,\n",
       "       16068.03816037, 18547.43547305, 25222.41976123, 25176.06409341,\n",
       "       26518.01037743,  5896.19728097,  6225.67595805,  6265.22601565,\n",
       "        5976.20889391,  5832.72306295, 10109.23396371,  6061.05969767,\n",
       "        6118.14411398,  6118.14411398, 10042.92800648, 11301.10641037,\n",
       "       18336.04622938,  7336.72885437,  6420.49643279,  5174.21296336,\n",
       "        6619.35236359,  6652.09244229,  6765.45204951,  6795.56233742,\n",
       "        8796.64497511,  8948.23637645,  8991.91184621,  9194.18038695,\n",
       "       10928.27635866, 10052.96792101,  9660.68466801, 12124.39546671,\n",
       "       36318.61803898, 36318.61803898, 41642.8179005 ,  5912.27956733,\n",
       "        5928.15567673,  5941.11734652,  6046.17348651,  6059.47585172,\n",
       "       10195.17246527, 10195.17246527, 10183.58560528, 15943.91103394,\n",
       "       10255.79037208, 10380.12258884, 10255.79037208, 10380.12258884,\n",
       "       10840.99181324, 10455.17617947, 14409.33460485, 13374.99392567,\n",
       "       23845.18430719, 25660.83650127, 23694.52193108, 25819.22130713,\n",
       "       33467.88380606, 32977.3323232 , 43675.1876574 , 40887.93971531,\n",
       "       21725.64934084,  6133.16487359,  6085.05002803,  6253.80059193,\n",
       "       10090.74982707, 11854.93594171, 10016.61577698, 18326.329704  ,\n",
       "       18294.79233972, 18293.35249597, 10170.11422978, 10338.39037401,\n",
       "       11789.53215232, 11789.53215232,  6142.17917544,  7983.88787635,\n",
       "        6237.02226217,  6303.17324643,  6594.52421107,  6346.49618251,\n",
       "        6608.34797507,  6413.64654004,  6639.54002489,  6539.47142737,\n",
       "        9873.86832774,  9834.0864611 , 21542.40070894, 21943.92002198,\n",
       "       19962.95857269, 20356.0183024 , 26222.11317103, 20341.71353538,\n",
       "       14818.06559816, 17551.99876768, 15859.21897961, 22522.92300522,\n",
       "       15235.77892428, 17955.44126309, 16372.90437956, 23030.2532818 ,\n",
       "       15084.294341  , 17955.44126309, 16250.91973598,  6055.84397892,\n",
       "       10109.23396371,  6061.05969767,  6118.14411398,  7233.51510587,\n",
       "       11301.10641037, 18332.87511207, 16673.92477798, 29495.55178338,\n",
       "       29495.55178338, 29142.08639481, 12016.62613202, 11697.23318166,\n",
       "       12342.34351684, 12386.49919971, 12401.26513708, 12466.45293627,\n",
       "       18242.95384024, 17949.00448273,  6700.20551188,  7997.30024417,\n",
       "        8636.26729049,  7944.41290334,  8390.53558175,  9428.00408123,\n",
       "       10474.44703897, 11297.44802676,  8851.7365991 ,  9797.87067058,\n",
       "        9844.28010745, 13096.77282426,  6056.63496474,  6245.63877429,\n",
       "        6145.27113649,  7292.72653992,  7665.13318655, 12736.87506656,\n",
       "        6871.06981567,  6968.66287912,  9283.38827884,  9464.77139239,\n",
       "        7169.3719601 ,  7136.3122441 ,  7210.40024787,  7330.79618254,\n",
       "        7477.79752708, 11470.87491749, 11381.87464018, 13425.15063307,\n",
       "       13416.04571804, 13450.31407106, 13756.595326  , 13844.6633676 ,\n",
       "       14559.88992624,  9806.11748135,  9879.53213034, 10407.28472047,\n",
       "       10407.28472047, 10562.89821641, 20451.82473939, 20392.24997134,\n",
       "       19935.66449178, 19170.99696916,  8417.3909446 ,  8516.96887281,\n",
       "        8433.178976  ,  8524.96214343,  8695.96885206,  7520.25782581,\n",
       "        9838.62475227,  9575.08567915,  9484.96194069, 14720.52537862,\n",
       "        8713.09236566, 10070.069151  , 14626.38856972, 15008.62680132,\n",
       "       14696.7259568 , 15034.47898838, 19307.91162797, 18667.09940953,\n",
       "       14749.22928895, 18027.49072084, 19827.65641803, 17324.32982519,\n",
       "       16292.72734879])"
      ]
     },
     "execution_count": 44,
     "metadata": {},
     "output_type": "execute_result"
    }
   ],
   "source": [
    "y_pred_7 = model_7.predict(X_poly_7)\n",
    "y_pred_7"
   ]
  },
  {
   "cell_type": "markdown",
   "metadata": {},
   "source": [
    "### Câu 8 : Tính MSE và R^2 để đánh giá tập mẫu của mô hình trên bằng phương pháp thủ công và gọi hàm. Phát họa distribution plot để đánh giá mô hình."
   ]
  },
  {
   "cell_type": "code",
   "execution_count": 45,
   "metadata": {},
   "outputs": [],
   "source": [
    "df_8 = df.copy()"
   ]
  },
  {
   "cell_type": "markdown",
   "metadata": {},
   "source": [
    "Tính MSE"
   ]
  },
  {
   "cell_type": "code",
   "execution_count": 46,
   "metadata": {},
   "outputs": [
    {
     "data": {
      "text/plain": [
       "9656613.4039896"
      ]
     },
     "execution_count": 46,
     "metadata": {},
     "output_type": "execute_result"
    }
   ],
   "source": [
    "MSE_8 = mse_6(y, y_pred_7, df_8)\n",
    "MSE_8"
   ]
  },
  {
   "cell_type": "code",
   "execution_count": 47,
   "metadata": {},
   "outputs": [
    {
     "data": {
      "text/plain": [
       "9656613.4039896"
      ]
     },
     "execution_count": 47,
     "metadata": {},
     "output_type": "execute_result"
    }
   ],
   "source": [
    "MSE_8_func = mean_squared_error(y, y_pred_7)\n",
    "MSE_8_func"
   ]
  },
  {
   "cell_type": "code",
   "execution_count": 48,
   "metadata": {},
   "outputs": [
    {
     "data": {
      "text/plain": [
       "62841655.16734734"
      ]
     },
     "execution_count": 48,
     "metadata": {},
     "output_type": "execute_result"
    }
   ],
   "source": [
    "MSE_average_8 = mse_6(y, y.mean(), df_8)\n",
    "MSE_average_8"
   ]
  },
  {
   "cell_type": "code",
   "execution_count": 49,
   "metadata": {},
   "outputs": [
    {
     "data": {
      "text/plain": [
       "62841655.16734734"
      ]
     },
     "execution_count": 49,
     "metadata": {},
     "output_type": "execute_result"
    }
   ],
   "source": [
    "MSE_average_8_func = mean_squared_error(y, df_mean)\n",
    "MSE_average_8_func"
   ]
  },
  {
   "cell_type": "markdown",
   "metadata": {},
   "source": [
    "Tính R^2"
   ]
  },
  {
   "cell_type": "code",
   "execution_count": 50,
   "metadata": {},
   "outputs": [
    {
     "data": {
      "text/plain": [
       "0.8463341969864728"
      ]
     },
     "execution_count": 50,
     "metadata": {},
     "output_type": "execute_result"
    }
   ],
   "source": [
    "R2_8 = 1 - (MSE_8 / MSE_average_8)\n",
    "R2_8"
   ]
  },
  {
   "cell_type": "code",
   "execution_count": 51,
   "metadata": {},
   "outputs": [
    {
     "data": {
      "text/plain": [
       "0.8463341969864728"
      ]
     },
     "execution_count": 51,
     "metadata": {},
     "output_type": "execute_result"
    }
   ],
   "source": [
    "R2_8_func = model_7.score(X_poly_7, y)\n",
    "R2_8_func"
   ]
  },
  {
   "cell_type": "markdown",
   "metadata": {},
   "source": [
    "### Câu 9 : Thiết kế một pipeline để phát triển mô hình Polynomial Regression bậc 2 để dự đoán giá xe từ biến 'horsepower', 'curb-weight', 'engine-size', 'highway-mpg'. Trong pipeline thực hiện các công việc sau : Normalize, Transform => feature, LinearRegression để Fit tìm mô hình. Xuất mô hình vừa tìm được"
   ]
  },
  {
   "cell_type": "code",
   "execution_count": 52,
   "metadata": {},
   "outputs": [],
   "source": [
    "df_9 = df.copy()"
   ]
  },
  {
   "cell_type": "code",
   "execution_count": 53,
   "metadata": {},
   "outputs": [],
   "source": [
    "X_9 = df_9[['horsepower', 'curb-weight', 'engine-size', 'highway-mpg']]"
   ]
  },
  {
   "cell_type": "code",
   "execution_count": 54,
   "metadata": {},
   "outputs": [],
   "source": [
    "inp = [('scale', StandardScaler()),\n",
    "      ('polynomial', PolynomialFeatures(degree = 2, include_bias = False)),\n",
    "      ('model', LinearRegression())]"
   ]
  },
  {
   "cell_type": "code",
   "execution_count": 55,
   "metadata": {},
   "outputs": [
    {
     "data": {
      "text/plain": [
       "Pipeline(memory=None,\n",
       "         steps=[('scale',\n",
       "                 StandardScaler(copy=True, with_mean=True, with_std=True)),\n",
       "                ('polynomial',\n",
       "                 PolynomialFeatures(degree=2, include_bias=False,\n",
       "                                    interaction_only=False, order='C')),\n",
       "                ('model',\n",
       "                 LinearRegression(copy_X=True, fit_intercept=True, n_jobs=None,\n",
       "                                  normalize=False))],\n",
       "         verbose=False)"
      ]
     },
     "execution_count": 55,
     "metadata": {},
     "output_type": "execute_result"
    }
   ],
   "source": [
    "pipe = Pipeline(inp)\n",
    "pipe"
   ]
  },
  {
   "cell_type": "code",
   "execution_count": 56,
   "metadata": {},
   "outputs": [
    {
     "data": {
      "text/plain": [
       "Pipeline(memory=None,\n",
       "         steps=[('scale',\n",
       "                 StandardScaler(copy=True, with_mean=True, with_std=True)),\n",
       "                ('polynomial',\n",
       "                 PolynomialFeatures(degree=2, include_bias=False,\n",
       "                                    interaction_only=False, order='C')),\n",
       "                ('model',\n",
       "                 LinearRegression(copy_X=True, fit_intercept=True, n_jobs=None,\n",
       "                                  normalize=False))],\n",
       "         verbose=False)"
      ]
     },
     "execution_count": 56,
     "metadata": {},
     "output_type": "execute_result"
    }
   ],
   "source": [
    "pipe.fit(X_9, y)"
   ]
  },
  {
   "cell_type": "code",
   "execution_count": 57,
   "metadata": {
    "scrolled": true
   },
   "outputs": [
    {
     "data": {
      "text/plain": [
       "array([13102.74784201, 13102.74784201, 18225.54572197, 10390.29636555,\n",
       "       16136.29619164, 13880.09787302, 15041.58694037, 15457.93465485,\n",
       "       17974.49032347, 10510.56542385, 10510.56542385, 15845.70697835,\n",
       "       16068.03816037, 18547.43547305, 25222.41976123, 25176.06409341,\n",
       "       26518.01037743,  5896.19728097,  6225.67595805,  6265.22601565,\n",
       "        5976.20889391,  5832.72306295, 10109.23396371,  6061.05969767,\n",
       "        6118.14411398,  6118.14411398, 10042.92800648, 11301.10641037,\n",
       "       18336.04622938,  7336.72885437,  6420.49643279,  5174.21296336,\n",
       "        6619.35236359,  6652.09244229,  6765.45204951,  6795.56233742,\n",
       "        8796.64497511,  8948.23637645,  8991.91184621,  9194.18038695,\n",
       "       10928.27635866, 10052.96792101,  9660.68466801, 12124.39546671,\n",
       "       36318.61803898, 36318.61803898, 41642.8179005 ,  5912.27956733,\n",
       "        5928.15567673,  5941.11734652,  6046.17348651,  6059.47585172,\n",
       "       10195.17246527, 10195.17246527, 10183.58560528, 15943.91103394,\n",
       "       10255.79037208, 10380.12258884, 10255.79037208, 10380.12258884,\n",
       "       10840.99181324, 10455.17617947, 14409.33460485, 13374.99392567,\n",
       "       23845.18430719, 25660.83650127, 23694.52193108, 25819.22130713,\n",
       "       33467.88380606, 32977.3323232 , 43675.1876574 , 40887.93971531,\n",
       "       21725.64934084,  6133.16487359,  6085.05002803,  6253.80059193,\n",
       "       10090.74982707, 11854.93594171, 10016.61577698, 18326.329704  ,\n",
       "       18294.79233972, 18293.35249597, 10170.11422978, 10338.39037401,\n",
       "       11789.53215232, 11789.53215232,  6142.17917544,  7983.88787635,\n",
       "        6237.02226217,  6303.17324643,  6594.52421107,  6346.49618251,\n",
       "        6608.34797507,  6413.64654004,  6639.54002489,  6539.47142737,\n",
       "        9873.86832774,  9834.0864611 , 21542.40070894, 21943.92002198,\n",
       "       19962.95857269, 20356.0183024 , 26222.11317103, 20341.71353538,\n",
       "       14818.06559816, 17551.99876768, 15859.21897961, 22522.92300522,\n",
       "       15235.77892428, 17955.44126309, 16372.90437956, 23030.2532818 ,\n",
       "       15084.294341  , 17955.44126309, 16250.91973598,  6055.84397892,\n",
       "       10109.23396371,  6061.05969767,  6118.14411398,  7233.51510587,\n",
       "       11301.10641037, 18332.87511207, 16673.92477798, 29495.55178338,\n",
       "       29495.55178338, 29142.08639481, 12016.62613202, 11697.23318166,\n",
       "       12342.34351684, 12386.49919971, 12401.26513708, 12466.45293627,\n",
       "       18242.95384024, 17949.00448273,  6700.20551188,  7997.30024417,\n",
       "        8636.26729049,  7944.41290334,  8390.53558175,  9428.00408123,\n",
       "       10474.44703897, 11297.44802676,  8851.7365991 ,  9797.87067058,\n",
       "        9844.28010745, 13096.77282426,  6056.63496474,  6245.63877429,\n",
       "        6145.27113649,  7292.72653992,  7665.13318655, 12736.87506656,\n",
       "        6871.06981567,  6968.66287912,  9283.38827884,  9464.77139239,\n",
       "        7169.3719601 ,  7136.3122441 ,  7210.40024787,  7330.79618254,\n",
       "        7477.79752708, 11470.87491749, 11381.87464018, 13425.15063307,\n",
       "       13416.04571804, 13450.31407106, 13756.595326  , 13844.6633676 ,\n",
       "       14559.88992624,  9806.11748135,  9879.53213034, 10407.28472047,\n",
       "       10407.28472047, 10562.89821641, 20451.82473939, 20392.24997134,\n",
       "       19935.66449178, 19170.99696916,  8417.3909446 ,  8516.96887281,\n",
       "        8433.178976  ,  8524.96214343,  8695.96885206,  7520.25782581,\n",
       "        9838.62475227,  9575.08567915,  9484.96194069, 14720.52537862,\n",
       "        8713.09236566, 10070.069151  , 14626.38856972, 15008.62680132,\n",
       "       14696.7259568 , 15034.47898838, 19307.91162797, 18667.09940953,\n",
       "       14749.22928895, 18027.49072084, 19827.65641803, 17324.32982519,\n",
       "       16292.72734879])"
      ]
     },
     "execution_count": 57,
     "metadata": {},
     "output_type": "execute_result"
    }
   ],
   "source": [
    "ypipe = pipe.predict(X_9)\n",
    "ypipe"
   ]
  },
  {
   "cell_type": "markdown",
   "metadata": {},
   "source": [
    "### Câu 10 : Tìm khoảng giá trị được xem là vô lý trong các mô hình đã tìm thấy"
   ]
  },
  {
   "cell_type": "code",
   "execution_count": 58,
   "metadata": {},
   "outputs": [
    {
     "name": "stdout",
     "output_type": "stream",
     "text": [
      "0 curb-weight\n",
      "1 engine-size\n",
      "2 length\n",
      "3 width\n",
      "4 horsepower\n",
      "5 city-mpg\n",
      "6 highway-mpg\n",
      "7 wheel-base\n",
      "8 bore\n",
      "9 price\n"
     ]
    }
   ],
   "source": [
    "for i in range(0, len(df.columns)):\n",
    "    print(i, df.columns[i])"
   ]
  },
  {
   "cell_type": "markdown",
   "metadata": {},
   "source": [
    "Khoảng giá trị vô lý:\n",
    "\n",
    "Số lượng feature chọn làm input cho mô hình: x\n",
    "\n",
    "Số lượng feature chọn làm output cho mô hình: y\n",
    "\n",
    "* Input: 0 >= x hoặc x > 10\n",
    "* Output: 0 > y hoặc y > 1"
   ]
  },
  {
   "cell_type": "markdown",
   "metadata": {},
   "source": [
    "### Câu 11 : Xếp hạng các mô hình đã phát triển các câu trên"
   ]
  },
  {
   "cell_type": "code",
   "execution_count": 59,
   "metadata": {},
   "outputs": [
    {
     "data": {
      "text/plain": [
       "9656613.4039896"
      ]
     },
     "execution_count": 59,
     "metadata": {},
     "output_type": "execute_result"
    }
   ],
   "source": [
    "MSE_pipe = mean_squared_error(y, ypipe)\n",
    "MSE_pipe"
   ]
  },
  {
   "cell_type": "code",
   "execution_count": 60,
   "metadata": {},
   "outputs": [
    {
     "data": {
      "text/plain": [
       "62841655.16734734"
      ]
     },
     "execution_count": 60,
     "metadata": {},
     "output_type": "execute_result"
    }
   ],
   "source": [
    "MSE_average_pipe =  mean_squared_error(y, df_mean)\n",
    "MSE_average_pipe"
   ]
  },
  {
   "cell_type": "code",
   "execution_count": 61,
   "metadata": {},
   "outputs": [
    {
     "data": {
      "text/plain": [
       "0.8463341969864728"
      ]
     },
     "execution_count": 61,
     "metadata": {},
     "output_type": "execute_result"
    }
   ],
   "source": [
    "R2_pipe = pipe.score(X_9, y)\n",
    "R2_pipe"
   ]
  },
  {
   "cell_type": "code",
   "execution_count": 62,
   "metadata": {},
   "outputs": [],
   "source": [
    "arr_MSE = [MSE_4_func, MSE_6_func, MSE_8_func, MSE_pipe]\n",
    "arr_MSE_average = [MSE_average_4_func, MSE_average_6_func, MSE_average_8_func, MSE_average_pipe]\n",
    "arr_R2 = [R2_4_func, R2_4_func, R2_4_func, R2_pipe]"
   ]
  },
  {
   "cell_type": "code",
   "execution_count": 63,
   "metadata": {},
   "outputs": [
    {
     "name": "stdout",
     "output_type": "stream",
     "text": [
      "Min MSE = MultiReg 6578339.0826046895\n",
      "Min average MSE = PolyReg3 62841655.16734734\n",
      "Max R2 = Pipeline 0.8463341969864728\n"
     ]
    },
    {
     "data": {
      "text/html": [
       "<div>\n",
       "<style scoped>\n",
       "    .dataframe tbody tr th:only-of-type {\n",
       "        vertical-align: middle;\n",
       "    }\n",
       "\n",
       "    .dataframe tbody tr th {\n",
       "        vertical-align: top;\n",
       "    }\n",
       "\n",
       "    .dataframe thead th {\n",
       "        text-align: right;\n",
       "    }\n",
       "</style>\n",
       "<table border=\"1\" class=\"dataframe\">\n",
       "  <thead>\n",
       "    <tr style=\"text-align: right;\">\n",
       "      <th></th>\n",
       "      <th>PolyReg3</th>\n",
       "      <th>MultiReg</th>\n",
       "      <th>PolyReg2</th>\n",
       "      <th>Pipeline</th>\n",
       "    </tr>\n",
       "  </thead>\n",
       "  <tbody>\n",
       "    <tr>\n",
       "      <th>MSE</th>\n",
       "      <td>2.047415e+07</td>\n",
       "      <td>6.578339e+06</td>\n",
       "      <td>9.656613e+06</td>\n",
       "      <td>9.656613e+06</td>\n",
       "    </tr>\n",
       "    <tr>\n",
       "      <th>MSEavg</th>\n",
       "      <td>6.284166e+07</td>\n",
       "      <td>6.284166e+07</td>\n",
       "      <td>6.284166e+07</td>\n",
       "      <td>6.284166e+07</td>\n",
       "    </tr>\n",
       "    <tr>\n",
       "      <th>R2</th>\n",
       "      <td>6.741947e-01</td>\n",
       "      <td>6.741947e-01</td>\n",
       "      <td>6.741947e-01</td>\n",
       "      <td>8.463342e-01</td>\n",
       "    </tr>\n",
       "  </tbody>\n",
       "</table>\n",
       "</div>"
      ],
      "text/plain": [
       "            PolyReg3      MultiReg      PolyReg2      Pipeline\n",
       "MSE     2.047415e+07  6.578339e+06  9.656613e+06  9.656613e+06\n",
       "MSEavg  6.284166e+07  6.284166e+07  6.284166e+07  6.284166e+07\n",
       "R2      6.741947e-01  6.741947e-01  6.741947e-01  8.463342e-01"
      ]
     },
     "execution_count": 63,
     "metadata": {},
     "output_type": "execute_result"
    }
   ],
   "source": [
    "df_compare = pd.DataFrame([arr_MSE, arr_MSE_average, arr_R2],\n",
    "                 columns=['PolyReg3', 'MultiReg', 'PolyReg2', 'Pipeline'],\n",
    "                 index=['MSE', 'MSEavg', 'R2'])\n",
    "print('Min MSE = {}'.format(df_compare.columns[arr_MSE.index(min(arr_MSE))]), min(arr_MSE))\n",
    "print('Min average MSE = {}'.format(df_compare.columns[arr_MSE_average.index(min(arr_MSE_average))]),min(arr_MSE_average))\n",
    "print('Max R2 = {}'.format(df_compare.columns[arr_R2.index(max(arr_R2))]),max(arr_R2))\n",
    "df_compare"
   ]
  },
  {
   "cell_type": "markdown",
   "metadata": {},
   "source": [
    "### Câu 12 : Phát triển một mô hình nào khác tốt hơn các mô hình đã phát triển bên trên . Nếu có thì chứng minh mô hình của bạn là tốt hơn? (Câu nâng cao)"
   ]
  },
  {
   "cell_type": "code",
   "execution_count": 64,
   "metadata": {},
   "outputs": [],
   "source": [
    "df_12 = df.copy()"
   ]
  },
  {
   "cell_type": "code",
   "execution_count": 65,
   "metadata": {},
   "outputs": [],
   "source": [
    "X_12 = df_12[['horsepower', 'curb-weight', 'engine-size', 'highway-mpg']]"
   ]
  },
  {
   "cell_type": "code",
   "execution_count": 66,
   "metadata": {},
   "outputs": [
    {
     "name": "stdout",
     "output_type": "stream",
     "text": [
      "0.9836530852918053\n",
      "MSE_randomforest =  1027267.1771424128\n"
     ]
    }
   ],
   "source": [
    "from sklearn.ensemble import RandomForestRegressor\n",
    "regressor = RandomForestRegressor(n_estimators = 10, random_state = 0)\n",
    "regressor.fit(X_12, y)\n",
    "print(regressor.score(X_12, y))\n",
    "print('MSE_randomforest = ',mean_squared_error(y, regressor.predict(X_12)))"
   ]
  },
  {
   "cell_type": "code",
   "execution_count": 67,
   "metadata": {},
   "outputs": [
    {
     "data": {
      "image/png": "[encoded data removed]",
      "text/plain": [
       "<Figure size 432x288 with 1 Axes>"
      ]
     },
     "metadata": {
      "needs_background": "light"
     },
     "output_type": "display_data"
    }
   ],
   "source": [
    "ax_12 = sns.distplot(regressor.predict(X_12), hist=False, color='b', label = 'Fitted Values')\n",
    "sns.distplot(y, hist=False, color='r', label = 'Actual Value', ax=ax_12)\n",
    "plt.show()"
   ]
  },
  {
   "cell_type": "code",
   "execution_count": 68,
   "metadata": {},
   "outputs": [
    {
     "name": "stdout",
     "output_type": "stream",
     "text": [
      "\t\tCOMPARE\n",
      "\n",
      "is smaller MSE ?  [ True  True  True  True]\n",
      "is greater R2 ? [ True  True  True  True]\n"
     ]
    }
   ],
   "source": [
    "print('\\t\\tCOMPARE\\n')\n",
    "print('is smaller MSE ? ',mean_squared_error(y, regressor.predict(X_12)) < arr_MSE)\n",
    "print('is greater R2 ?',regressor.score(X_12, y) > arr_R2)"
   ]
  },
  {
   "cell_type": "code",
   "execution_count": 69,
   "metadata": {},
   "outputs": [
    {
     "data": {
      "text/plain": [
       "1"
      ]
     },
     "execution_count": 69,
     "metadata": {},
     "output_type": "execute_result"
    }
   ],
   "source": [
    "len(df[['price']].columns)"
   ]
  },
  {
   "cell_type": "markdown",
   "metadata": {},
   "source": [
    "=> Mô hình hồi quy tuyến tính sử dụng thuật toán Random Forest cho hiệu quả tốt hơn các mô hình trước đó "
   ]
  },
  {
   "cell_type": "markdown",
   "metadata": {},
   "source": [
    "### Câu 13 : Viết hàm trả về kết quả dự đoán từ một hoặc nhiều feature thuộc 'curb-weight', 'engine-size', 'length', 'width', 'horsepower', 'city-mpg', 'highway-mpg', 'wheel-base', 'bore'."
   ]
  },
  {
   "cell_type": "code",
   "execution_count": 70,
   "metadata": {},
   "outputs": [],
   "source": [
    "X_13 = df[['horsepower', 'curb-weight', 'engine-size', 'highway-mpg']]\n",
    "y = df[['price']]"
   ]
  },
  {
   "cell_type": "code",
   "execution_count": 71,
   "metadata": {},
   "outputs": [],
   "source": [
    "def rf_func(x, y, params, random_state, predict_from):\n",
    "    from sklearn.ensemble import RandomForestRegressor\n",
    "    model = RandomForestRegressor(n_estimators = params, random_state = random_state)\n",
    "    model.fit(x, y)\n",
    "    \n",
    "    if len(predict_from.columns) < len(x.columns):\n",
    "        n = np.abs(len(predict_from.columns) - len(x.columns))\n",
    "        predict_from = pd.concat([predict_from]* (n+1), axis=1, ignore_index=True)\n",
    "        y_pred = model.predict(predict_from)\n",
    "    elif len(predict_from.columns) == len(x.columns):\n",
    "        y_pred = model.predict(predict_from)\n",
    "    else:\n",
    "        print('Error! Length to predict is greater than the length of input model!')\n",
    "    return model, y_pred"
   ]
  },
  {
   "cell_type": "code",
   "execution_count": 72,
   "metadata": {},
   "outputs": [
    {
     "name": "stderr",
     "output_type": "stream",
     "text": [
      "C:\\Users\\aquar\\anaconda3\\lib\\site-packages\\ipykernel_launcher.py:4: DataConversionWarning: A column-vector y was passed when a 1d array was expected. Please change the shape of y to (n_samples,), for example using ravel().\n",
      "  after removing the cwd from sys.path.\n"
     ]
    },
    {
     "data": {
      "text/plain": [
       "(RandomForestRegressor(bootstrap=True, ccp_alpha=0.0, criterion='mse',\n",
       "                       max_depth=None, max_features='auto', max_leaf_nodes=None,\n",
       "                       max_samples=None, min_impurity_decrease=0.0,\n",
       "                       min_impurity_split=None, min_samples_leaf=1,\n",
       "                       min_samples_split=2, min_weight_fraction_leaf=0.0,\n",
       "                       n_estimators=10, n_jobs=None, oob_score=False,\n",
       "                       random_state=0, verbose=0, warm_start=False),\n",
       " array([ 7308.9,  7308.9,  7308.9,  7155.9,  7308.9,  7308.9,  7308.9,\n",
       "         7308.9,  7308.9,  7155.9,  7155.9,  7308.9,  7308.9,  7308.9,\n",
       "         7308.9,  7308.9,  7308.9,  5769.4,  6168.6,  6168.6,  6044.6,\n",
       "         6044.6,  7155.9,  6044.6,  6044.6,  6044.6,  7155.9,  6581.2,\n",
       "         7308.9,  6035. ,  6193.4,  6035. ,  6193.4,  6193.4,  6193.4,\n",
       "         6193.4,  6581.2,  6581.2,  6581.2,  6581.2,  7155.9,  7155.9,\n",
       "         6193.4,  6719.4,  7308.9,  7308.9, 31232.9,  6044.6,  6044.6,\n",
       "         6044.6,  6044.6,  6044.6,  7155.9,  7155.9,  7155.9,  7308.9,\n",
       "         6589.2,  6589.2,  6589.2,  6589.2,  6035. ,  6589.2,  7308.9,\n",
       "         6193.4,  7308.9,  7308.9,  7308.9,  7308.9,  7308.9,  7308.9,\n",
       "        29270.9, 29270.9,  7308.9,  6044.6,  6044.6,  6044.6,  7155.9,\n",
       "         7308.9,  6581.2,  7308.9,  7308.9,  7308.9,  6581.2,  6581.2,\n",
       "         7308.9,  7308.9,  6044.6,  6035. ,  6044.6,  6044.6,  6044.6,\n",
       "         6044.6,  6044.6,  6044.6,  6044.6,  6044.6,  7093.9,  7093.9,\n",
       "         7308.9,  7308.9,  7308.9,  7308.9, 31055.1,  7308.9,  7093.9,\n",
       "         7013.5,  7093.9,  7013.5,  7013.5,  7013.5,  7013.5,  7013.5,\n",
       "         7093.9,  7013.5,  7308.9,  6044.6,  7155.9,  6044.6,  6044.6,\n",
       "         6044.6,  6581.2,  7308.9,  7308.9, 31055.1, 31055.1, 31055.1,\n",
       "         7380. ,  7380. ,  7308.9,  7308.9,  7308.9,  7308.9,  7308.9,\n",
       "         7308.9,  6044.6,  6193.4,  6193.4,  6193.4,  6193.4,  6719.4,\n",
       "         6193.4,  7308.9,  6193.4,  6719.4,  6193.4,  7308.9,  6035. ,\n",
       "         6035. ,  6035. ,  6035. ,  6035. ,  6035. ,  6168.6,  6168.6,\n",
       "         6035. ,  6035. ,  6168.6,  6168.6,  6168.6,  6168.6,  6168.6,\n",
       "         7308.9,  7308.9,  7308.9,  7308.9,  7308.9,  7308.9,  7308.9,\n",
       "         7308.9,  6719.4,  6193.4,  6719.4,  6719.4,  6719.4,  7308.9,\n",
       "         7308.9,  7308.9,  7308.9,  5769.4,  6589.2,  5769.4,  6589.2,\n",
       "         6589.2,  6044.6,  7155.9,  6719.4,  6719.4,  7308.9,  6044.6,\n",
       "         6581.2,  7308.9,  7308.9,  7308.9,  7308.9,  7308.9,  7308.9,\n",
       "         7308.9,  7308.9,  7308.9,  7380. ,  7308.9]))"
      ]
     },
     "execution_count": 72,
     "metadata": {},
     "output_type": "execute_result"
    }
   ],
   "source": [
    "rf_func(X_12, y, 10, 0, df_12[['horsepower']])"
   ]
  },
  {
   "cell_type": "code",
   "execution_count": null,
   "metadata": {},
   "outputs": [],
   "source": []
  }
 ],
 "metadata": {
  "kernelspec": {
   "display_name": "Python 3",
   "language": "python",
   "name": "python3"
  },
  "language_info": {
   "codemirror_mode": {
    "name": "ipython",
    "version": 3
   },
   "file_extension": ".py",
   "mimetype": "text/x-python",
   "name": "python",
   "nbconvert_exporter": "python",
   "pygments_lexer": "ipython3",
   "version": "3.8.5"
  }
 },
 "nbformat": 4,
 "nbformat_minor": 4
}
